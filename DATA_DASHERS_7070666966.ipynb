{
  "nbformat": 4,
  "nbformat_minor": 0,
  "metadata": {
    "colab": {
      "provenance": []
    },
    "kernelspec": {
      "name": "python3",
      "display_name": "Python 3"
    },
    "language_info": {
      "name": "python"
    }
  },
  "cells": [
    {
      "cell_type": "markdown",
      "source": [
        "## Import Modules"
      ],
      "metadata": {
        "id": "OB-qHLG47nma"
      }
    },
    {
      "cell_type": "code",
      "execution_count": 31,
      "metadata": {
        "id": "2aZ1PyPA7lQC"
      },
      "outputs": [],
      "source": [
        "import numpy as np\n",
        "import pandas as pd\n",
        "import matplotlib.pyplot as plt\n",
        "from math import sqrt\n",
        "from sklearn.metrics import mean_squared_error\n",
        "import tensorflow.keras.backend as K\n",
        "import pickle\n",
        "from sklearn.metrics import mean_absolute_percentage_error\n",
        "from statsmodels.tsa.api import ExponentialSmoothing, SimpleExpSmoothing, Holt\n",
        "import os, tqdm"
      ]
    },
    {
      "cell_type": "code",
      "source": [
        "import warnings\n",
        "warnings.filterwarnings('ignore')"
      ],
      "metadata": {
        "id": "690R_zg97tkp"
      },
      "execution_count": 33,
      "outputs": []
    },
    {
      "cell_type": "markdown",
      "source": [
        "## Preprocessing and Feature Engineering "
      ],
      "metadata": {
        "id": "_lalP-8I75CB"
      }
    },
    {
      "cell_type": "code",
      "source": [
        "data = pd.read_csv('PLID_Bookings_Problem1.csv')"
      ],
      "metadata": {
        "id": "timadQBA7wpz"
      },
      "execution_count": 3,
      "outputs": []
    },
    {
      "cell_type": "code",
      "source": [
        "data.sample(5)"
      ],
      "metadata": {
        "colab": {
          "base_uri": "https://localhost:8080/",
          "height": 206
        },
        "id": "xA3414X58Eij",
        "outputId": "8f9cb084-4213-48ff-9493-753b591e3cfd"
      },
      "execution_count": 4,
      "outputs": [
        {
          "output_type": "execute_result",
          "data": {
            "text/plain": [
              "      Business Unit Product Family              PLID Fiscal Quarter  \\\n",
              "6081          SRSBU        ISR1121        ISR4431/K9      Q3 FY2007   \n",
              "4014           QKBU          N9300  N9K-C93240YC-FX2      Q1 FY2011   \n",
              "2251          CVEBU          CTSPS     CS-DESKPRO-K9      Q1 FY2012   \n",
              "8973       UOPBLRBU          C9300         C9300-48P      Q1 FY2008   \n",
              "10063         UCEBU        PHONVID        CP-8865-K9      Q3 FY2002   \n",
              "\n",
              "      Fiscal Month  Booked_Qty Booking_Date  \n",
              "6081    FEB FY2007        2922   01-02-2019  \n",
              "4014    OCT FY2011        1145   01-10-2020  \n",
              "2251    AUG FY2012         727   01-08-2021  \n",
              "8973    AUG FY2008         699   01-08-2018  \n",
              "10063   FEB FY2002        6605   01-02-2017  "
            ],
            "text/html": [
              "\n",
              "  <div id=\"df-ec54f505-609d-4623-b468-b7209a765c18\">\n",
              "    <div class=\"colab-df-container\">\n",
              "      <div>\n",
              "<style scoped>\n",
              "    .dataframe tbody tr th:only-of-type {\n",
              "        vertical-align: middle;\n",
              "    }\n",
              "\n",
              "    .dataframe tbody tr th {\n",
              "        vertical-align: top;\n",
              "    }\n",
              "\n",
              "    .dataframe thead th {\n",
              "        text-align: right;\n",
              "    }\n",
              "</style>\n",
              "<table border=\"1\" class=\"dataframe\">\n",
              "  <thead>\n",
              "    <tr style=\"text-align: right;\">\n",
              "      <th></th>\n",
              "      <th>Business Unit</th>\n",
              "      <th>Product Family</th>\n",
              "      <th>PLID</th>\n",
              "      <th>Fiscal Quarter</th>\n",
              "      <th>Fiscal Month</th>\n",
              "      <th>Booked_Qty</th>\n",
              "      <th>Booking_Date</th>\n",
              "    </tr>\n",
              "  </thead>\n",
              "  <tbody>\n",
              "    <tr>\n",
              "      <th>6081</th>\n",
              "      <td>SRSBU</td>\n",
              "      <td>ISR1121</td>\n",
              "      <td>ISR4431/K9</td>\n",
              "      <td>Q3 FY2007</td>\n",
              "      <td>FEB FY2007</td>\n",
              "      <td>2922</td>\n",
              "      <td>01-02-2019</td>\n",
              "    </tr>\n",
              "    <tr>\n",
              "      <th>4014</th>\n",
              "      <td>QKBU</td>\n",
              "      <td>N9300</td>\n",
              "      <td>N9K-C93240YC-FX2</td>\n",
              "      <td>Q1 FY2011</td>\n",
              "      <td>OCT FY2011</td>\n",
              "      <td>1145</td>\n",
              "      <td>01-10-2020</td>\n",
              "    </tr>\n",
              "    <tr>\n",
              "      <th>2251</th>\n",
              "      <td>CVEBU</td>\n",
              "      <td>CTSPS</td>\n",
              "      <td>CS-DESKPRO-K9</td>\n",
              "      <td>Q1 FY2012</td>\n",
              "      <td>AUG FY2012</td>\n",
              "      <td>727</td>\n",
              "      <td>01-08-2021</td>\n",
              "    </tr>\n",
              "    <tr>\n",
              "      <th>8973</th>\n",
              "      <td>UOPBLRBU</td>\n",
              "      <td>C9300</td>\n",
              "      <td>C9300-48P</td>\n",
              "      <td>Q1 FY2008</td>\n",
              "      <td>AUG FY2008</td>\n",
              "      <td>699</td>\n",
              "      <td>01-08-2018</td>\n",
              "    </tr>\n",
              "    <tr>\n",
              "      <th>10063</th>\n",
              "      <td>UCEBU</td>\n",
              "      <td>PHONVID</td>\n",
              "      <td>CP-8865-K9</td>\n",
              "      <td>Q3 FY2002</td>\n",
              "      <td>FEB FY2002</td>\n",
              "      <td>6605</td>\n",
              "      <td>01-02-2017</td>\n",
              "    </tr>\n",
              "  </tbody>\n",
              "</table>\n",
              "</div>\n",
              "      <button class=\"colab-df-convert\" onclick=\"convertToInteractive('df-ec54f505-609d-4623-b468-b7209a765c18')\"\n",
              "              title=\"Convert this dataframe to an interactive table.\"\n",
              "              style=\"display:none;\">\n",
              "        \n",
              "  <svg xmlns=\"http://www.w3.org/2000/svg\" height=\"24px\"viewBox=\"0 0 24 24\"\n",
              "       width=\"24px\">\n",
              "    <path d=\"M0 0h24v24H0V0z\" fill=\"none\"/>\n",
              "    <path d=\"M18.56 5.44l.94 2.06.94-2.06 2.06-.94-2.06-.94-.94-2.06-.94 2.06-2.06.94zm-11 1L8.5 8.5l.94-2.06 2.06-.94-2.06-.94L8.5 2.5l-.94 2.06-2.06.94zm10 10l.94 2.06.94-2.06 2.06-.94-2.06-.94-.94-2.06-.94 2.06-2.06.94z\"/><path d=\"M17.41 7.96l-1.37-1.37c-.4-.4-.92-.59-1.43-.59-.52 0-1.04.2-1.43.59L10.3 9.45l-7.72 7.72c-.78.78-.78 2.05 0 2.83L4 21.41c.39.39.9.59 1.41.59.51 0 1.02-.2 1.41-.59l7.78-7.78 2.81-2.81c.8-.78.8-2.07 0-2.86zM5.41 20L4 18.59l7.72-7.72 1.47 1.35L5.41 20z\"/>\n",
              "  </svg>\n",
              "      </button>\n",
              "      \n",
              "  <style>\n",
              "    .colab-df-container {\n",
              "      display:flex;\n",
              "      flex-wrap:wrap;\n",
              "      gap: 12px;\n",
              "    }\n",
              "\n",
              "    .colab-df-convert {\n",
              "      background-color: #E8F0FE;\n",
              "      border: none;\n",
              "      border-radius: 50%;\n",
              "      cursor: pointer;\n",
              "      display: none;\n",
              "      fill: #1967D2;\n",
              "      height: 32px;\n",
              "      padding: 0 0 0 0;\n",
              "      width: 32px;\n",
              "    }\n",
              "\n",
              "    .colab-df-convert:hover {\n",
              "      background-color: #E2EBFA;\n",
              "      box-shadow: 0px 1px 2px rgba(60, 64, 67, 0.3), 0px 1px 3px 1px rgba(60, 64, 67, 0.15);\n",
              "      fill: #174EA6;\n",
              "    }\n",
              "\n",
              "    [theme=dark] .colab-df-convert {\n",
              "      background-color: #3B4455;\n",
              "      fill: #D2E3FC;\n",
              "    }\n",
              "\n",
              "    [theme=dark] .colab-df-convert:hover {\n",
              "      background-color: #434B5C;\n",
              "      box-shadow: 0px 1px 3px 1px rgba(0, 0, 0, 0.15);\n",
              "      filter: drop-shadow(0px 1px 2px rgba(0, 0, 0, 0.3));\n",
              "      fill: #FFFFFF;\n",
              "    }\n",
              "  </style>\n",
              "\n",
              "      <script>\n",
              "        const buttonEl =\n",
              "          document.querySelector('#df-ec54f505-609d-4623-b468-b7209a765c18 button.colab-df-convert');\n",
              "        buttonEl.style.display =\n",
              "          google.colab.kernel.accessAllowed ? 'block' : 'none';\n",
              "\n",
              "        async function convertToInteractive(key) {\n",
              "          const element = document.querySelector('#df-ec54f505-609d-4623-b468-b7209a765c18');\n",
              "          const dataTable =\n",
              "            await google.colab.kernel.invokeFunction('convertToInteractive',\n",
              "                                                     [key], {});\n",
              "          if (!dataTable) return;\n",
              "\n",
              "          const docLinkHtml = 'Like what you see? Visit the ' +\n",
              "            '<a target=\"_blank\" href=https://colab.research.google.com/notebooks/data_table.ipynb>data table notebook</a>'\n",
              "            + ' to learn more about interactive tables.';\n",
              "          element.innerHTML = '';\n",
              "          dataTable['output_type'] = 'display_data';\n",
              "          await google.colab.output.renderOutput(dataTable, element);\n",
              "          const docLink = document.createElement('div');\n",
              "          docLink.innerHTML = docLinkHtml;\n",
              "          element.appendChild(docLink);\n",
              "        }\n",
              "      </script>\n",
              "    </div>\n",
              "  </div>\n",
              "  "
            ]
          },
          "metadata": {},
          "execution_count": 4
        }
      ]
    },
    {
      "cell_type": "code",
      "source": [
        "# convert the data to datetime format\n",
        "data['Booking_Date'] = pd.to_datetime(data['Booking_Date'])"
      ],
      "metadata": {
        "id": "rqqNuahU9XoX"
      },
      "execution_count": 14,
      "outputs": []
    },
    {
      "cell_type": "code",
      "source": [
        "data.info()"
      ],
      "metadata": {
        "colab": {
          "base_uri": "https://localhost:8080/"
        },
        "id": "liWaR9vm8QG5",
        "outputId": "ab7224d4-7471-427c-a94b-6ecfba424aec"
      },
      "execution_count": 15,
      "outputs": [
        {
          "output_type": "stream",
          "name": "stdout",
          "text": [
            "<class 'pandas.core.frame.DataFrame'>\n",
            "RangeIndex: 10996 entries, 0 to 10995\n",
            "Data columns (total 7 columns):\n",
            " #   Column          Non-Null Count  Dtype         \n",
            "---  ------          --------------  -----         \n",
            " 0   Business Unit   10996 non-null  object        \n",
            " 1   Product Family  10996 non-null  object        \n",
            " 2   PLID            10996 non-null  object        \n",
            " 3   Fiscal Quarter  10996 non-null  object        \n",
            " 4   Fiscal Month    10996 non-null  object        \n",
            " 5   Booked_Qty      10996 non-null  int64         \n",
            " 6   Booking_Date    10996 non-null  datetime64[ns]\n",
            "dtypes: datetime64[ns](1), int64(1), object(5)\n",
            "memory usage: 601.5+ KB\n"
          ]
        }
      ]
    },
    {
      "cell_type": "code",
      "source": [
        "# We find that the data provided has not nan values\n",
        "data.isna().sum()"
      ],
      "metadata": {
        "colab": {
          "base_uri": "https://localhost:8080/"
        },
        "id": "7FhRhT5C8ReA",
        "outputId": "cb8868a3-ad73-4fed-fdaa-d52edb324048"
      },
      "execution_count": 16,
      "outputs": [
        {
          "output_type": "execute_result",
          "data": {
            "text/plain": [
              "Business Unit     0\n",
              "Product Family    0\n",
              "PLID              0\n",
              "Fiscal Quarter    0\n",
              "Fiscal Month      0\n",
              "Booked_Qty        0\n",
              "Booking_Date      0\n",
              "dtype: int64"
            ]
          },
          "metadata": {},
          "execution_count": 16
        }
      ]
    },
    {
      "cell_type": "code",
      "source": [
        "#  Visualizing the data\n",
        "plt.figure(figsize=(20,5))\n",
        "ax = data['Booked_Qty'].plot()"
      ],
      "metadata": {
        "colab": {
          "base_uri": "https://localhost:8080/",
          "height": 320
        },
        "id": "2REv0-Xr8nM7",
        "outputId": "c9e6ebd1-d47e-4278-8485-2b10cbcbd50f"
      },
      "execution_count": 20,
      "outputs": [
        {
          "output_type": "display_data",
          "data": {
            "text/plain": [
              "<Figure size 1440x360 with 1 Axes>"
            ],
            "image/png": "[encoded data removed]"
          },
          "metadata": {
            "needs_background": "light"
          }
        }
      ]
    },
    {
      "cell_type": "code",
      "source": [
        "# We divide the data into groups\n",
        "grps = data.groupby('PLID')"
      ],
      "metadata": {
        "id": "s609t20G8ZQI"
      },
      "execution_count": 21,
      "outputs": []
    },
    {
      "cell_type": "code",
      "source": [
        "for plid in data['PLID'].unique():\n",
        "    a = grps.get_group(plid)\n",
        "    a.to_csv(plid+'.csv')\n",
        "    "
      ],
      "metadata": {
        "id": "jhC_EYdk87xl"
      },
      "execution_count": 27,
      "outputs": []
    },
    {
      "cell_type": "markdown",
      "source": [
        "## Training the model"
      ],
      "metadata": {
        "id": "rNO0-HxWBBak"
      }
    },
    {
      "cell_type": "markdown",
      "source": [
        "Making predictions with **Holt**"
      ],
      "metadata": {
        "id": "U_ujY3p6_Xh-"
      }
    },
    {
      "cell_type": "code",
      "source": [
        "main = pd.DataFrame()\n",
        "for i in tqdm.tqdm(os.listdir(\"dataset/\")):\n",
        "    \n",
        "    data = pd.read_csv(\"dataset/\"+i)\n",
        "    \n",
        "    df = data[['Booked_Qty', 'Booking_Date']]\n",
        "    df['Booking_Date'] = pd.to_datetime(df['Booking_Date'])\n",
        "    df = df.set_index('Booking_Date').sort_values('Booking_Date')\n",
        "    model_fit = Holt(df, damped=True).fit( smoothing_slope=0.2)\n",
        "    yhat = model_fit.predict(1)\n",
        "    yhat = pd.DataFrame(yhat,columns=['Holt_pred'])\n",
        "    data['Booking_Date'] = pd.to_datetime(data['Booking_Date'])\n",
        "    df2 = pd.merge(data, yhat, 'left', left_on = 'Booking_Date', right_on = 'Booking_Date')\n",
        "    \n",
        "    main = main.append(df2, ignore_index=True)"
      ],
      "metadata": {
        "colab": {
          "base_uri": "https://localhost:8080/"
        },
        "id": "LAxW_La--OD8",
        "outputId": "b1cfe329-0243-45bd-e2bb-53563d2bad0f"
      },
      "execution_count": 34,
      "outputs": [
        {
          "output_type": "stream",
          "name": "stderr",
          "text": [
            "100%|██████████| 250/250 [00:04<00:00, 53.47it/s]\n"
          ]
        }
      ]
    },
    {
      "cell_type": "markdown",
      "source": [
        "Making predictions with **Exponential Smoothing**"
      ],
      "metadata": {
        "id": "GkyzfPV5_a3-"
      }
    },
    {
      "cell_type": "code",
      "source": [
        "main = pd.DataFrame()\n",
        "for i in tqdm.tqdm(os.listdir(\"dataset/\")):\n",
        "    data = pd.read_csv(\"dataset/\"+i)\n",
        "    df = data[['Booked_Qty', 'Booking_Date']]\n",
        "    df['Booking_Date'] = pd.to_datetime(df['Booking_Date'])\n",
        "    df = df.set_index('Booking_Date').sort_values('Booking_Date')\n",
        "    model = ExponentialSmoothing(df,trend='additive',damped_trend='True',seasonal_periods='4' )\n",
        "    model_fit = model.fit(smoothing_level=1.0)\n",
        "    # make forecast\n",
        "    df3 = pd.DataFrame(model_fit.forecast(steps=12),columns=['Predict'])\n",
        "    df3 = df3.reset_index()\n",
        "    df4 = pd.concat([dates, df3,pd.DataFrame([str(data['PLID'].iloc[0])]*12),pd.DataFrame([str(data['Product Family'].iloc[0])]*12),pd.DataFrame([str(data['Business Unit'].iloc[0])]*12)],ignore_index=True,axis=1)\n",
        "    df4.columns = ['Dates','ind','Expo_smooth_pred','PLID','Product Family','Business Unit']\n",
        "    df4 = df4.drop(['ind'],axis=1)\n",
        "    main=main.append(df4,ignore_index=True)"
      ],
      "metadata": {
        "colab": {
          "base_uri": "https://localhost:8080/"
        },
        "id": "dDF2OGUB_J96",
        "outputId": "5efc380a-9cd2-4adf-f49e-1409ba241505"
      },
      "execution_count": 35,
      "outputs": [
        {
          "output_type": "stream",
          "name": "stdout",
          "text": [
            "100%|██████████| 250/250 [00:05<00:00, 25.47it/s]\n"
          ]
        }
      ]
    },
    {
      "cell_type": "markdown",
      "source": [
        "Make predictions with **Prophet**"
      ],
      "metadata": {
        "id": "XNpVR0py_7Ue"
      }
    },
    {
      "cell_type": "code",
      "source": [
        "main = pd.DataFrame()\n",
        "for i in tqdm.tqdm(os.listdir(\"dataset/\")):\n",
        "    data = pd.read_csv(\"dataset/\"+i)\n",
        "    df = data[['Booked_Qty', 'Booking_Date']]\n",
        "    df['Booking_Date'] = pd.to_datetime(df['Booking_Date'])\n",
        "    df = df.sort_values('Booking_Date')\n",
        "    df = df[['Booking_Date','Booked_Qty']]\n",
        "    df.columns = ['ds','y']\n",
        "    m = Prophet()\n",
        "    m.fit(df)\n",
        "    yhat = m.predict(df)\n",
        "    yhat = yhat[['ds','yhat']]\n",
        "    yhat.columns = ['Booking_Date','Prophet_pred']\n",
        "    data['Booking_Date'] = pd.to_datetime(data['Booking_Date'])\n",
        "    df2 = pd.merge(data, yhat, 'left', left_on = 'Booking_Date', right_on = 'Booking_Date')\n",
        "    main = main.append(df2, ignore_index=True)"
      ],
      "metadata": {
        "colab": {
          "base_uri": "https://localhost:8080/"
        },
        "id": "waaZSFdw_3q8",
        "outputId": "9929fa7c-8ec9-468e-9f76-6761643f3483"
      },
      "execution_count": 36,
      "outputs": [
        {
          "output_type": "stream",
          "name": "stdout",
          "text": [
            "100%|██████████| 250/250 [00:04<00:00, 53.47it/s]\n"
          ]
        }
      ]
    },
    {
      "cell_type": "markdown",
      "source": [
        "Make predictions with **SARIMAX**"
      ],
      "metadata": {
        "id": "RiDmcU8HAXN2"
      }
    },
    {
      "cell_type": "code",
      "source": [
        "main = pd.DataFrame()\n",
        "for i in tqdm.tqdm(os.listdir(\"dataset/\")):\n",
        "    data = pd.read_csv(\"dataset/\"+i)\n",
        "    df = data[['Booked_Qty', 'Booking_Date']]\n",
        "    df['Booking_Date'] = pd.to_datetime(df['Booking_Date'])\n",
        "    df = df.sort_values('Booking_Date')\n",
        "    df = df[['Booking_Date','Booked_Qty']]\n",
        "    df = df.set_index('Booking_Date')\n",
        "    model = sm.tsa.statespace.SARIMAX(df, order=(1, 1, 1), seasonal_order=(1, 1, 1, 12))\n",
        "    try:results = model.fit()   \n",
        "    except: continue\n",
        "    yhat = results.predict(start=0, end=len(df)-1)\n",
        "    yhat = pd.DataFrame(yhat).reset_index()\n",
        "    yhat['Booking_Date'] = pd.to_datetime(yhat['Booking_Date'])\n",
        "    data['Booking_Date'] = pd.to_datetime(data['Booking_Date'])\n",
        "    df2 = pd.merge(data, yhat, 'left', left_on = 'Booking_Date', right_on = 'Booking_Date')\n",
        "    main = main.append(df2, ignore_index=True)"
      ],
      "metadata": {
        "colab": {
          "base_uri": "https://localhost:8080/"
        },
        "id": "rJqpiNaVATWY",
        "outputId": "677f5c90-8ea5-4bdb-b2e7-cf58c43309ee"
      },
      "execution_count": 37,
      "outputs": [
        {
          "output_type": "stream",
          "name": "stdout",
          "text": [
            "100%|██████████| 250/250 [00:04<00:00, 12.49it/s]\n"
          ]
        }
      ]
    },
    {
      "cell_type": "markdown",
      "source": [
        "## Ensemble and predicting"
      ],
      "metadata": {
        "id": "jgzAhtdZBE8t"
      }
    },
    {
      "cell_type": "code",
      "source": [
        "from sklearn.linear_model  import LinearRegression ,BayesianRidge,ElasticNet\n",
        "from sklearn.svm import SVR\n",
        "from sklearn.tree import DecisionTreeRegressor\n",
        "from sklearn.ensemble import RandomForestRegressor\n",
        "from sklearn.ensemble import AdaBoostRegressor\n",
        "from xgboost import XGBRegressor,XGBRFRegressor\n",
        "from sklearn.metrics import mean_squared_error\n",
        "from lightgbm import LGBMRegressor\n",
        "from sklearn.metrics import mean_absolute_percentage_error, mean_squared_log_error"
      ],
      "metadata": {
        "id": "YP_1oQfNA23B"
      },
      "execution_count": 40,
      "outputs": []
    },
    {
      "cell_type": "code",
      "source": [
        "def train_and_evaluate(model,X_train,y_train, X_val,y_val, **params):\n",
        "    model.fit(X_train, y_train)\n",
        "    train_rmse =mean_squared_error(model.predict(X_train), y_train,squared=True)\n",
        "    val_rmse = mean_squared_error(model.predict(X_val), y_val,squared=True)\n",
        "    train_rmsle = mean_squared_log_error(abs(model.predict(X_train)), y_train,squared=True)\n",
        "    val_rmsle = mean_squared_log_error(abs(model.predict(X_val)), y_val,squared=True)\n",
        "\n",
        "    mape= mean_absolute_percentage_error( y_val,model.predict(X_val))\n",
        "    smapes=smape(y_val,model.predict(X_val))\n",
        "    return model, train_rmse, val_rmse,mape, train_rmsle, val_rmsle,smapes"
      ],
      "metadata": {
        "id": "K5KSSUtnBIzH"
      },
      "execution_count": 41,
      "outputs": []
    },
    {
      "cell_type": "code",
      "source": [
        "def smape(A, F):\n",
        "    return 100/len(A) * np.sum(2 * np.abs(F - A) / (np.abs(A) + np.abs(F)))"
      ],
      "metadata": {
        "id": "7_unQkwjBQ8n"
      },
      "execution_count": 42,
      "outputs": []
    },
    {
      "cell_type": "code",
      "source": [
        "test = pd.read_csv('data.csv')"
      ],
      "metadata": {
        "id": "EUwDXpKEBT8W"
      },
      "execution_count": null,
      "outputs": []
    },
    {
      "cell_type": "code",
      "source": [
        "X_test=test[['Dates', 'Expo_smooth_pred', 'holt_pred', 'Prophet_pred', 'SARMAX_pred']]"
      ],
      "metadata": {
        "id": "_Bt0EiPGBwYT"
      },
      "execution_count": null,
      "outputs": []
    },
    {
      "cell_type": "code",
      "source": [
        "X_test1_scaled=scaler.transform(X_test)"
      ],
      "metadata": {
        "id": "TEL0iJpJB39d"
      },
      "execution_count": null,
      "outputs": []
    },
    {
      "cell_type": "code",
      "source": [
        "model=XGBRegressor()\n",
        "model.fit(X_scaled1,y)\n",
        "y_test=model.predict(X_test1_scaled)"
      ],
      "metadata": {
        "id": "gQpnI8B6BhN4"
      },
      "execution_count": null,
      "outputs": []
    },
    {
      "cell_type": "code",
      "source": [
        "def size(input):\n",
        "    if input<50:\n",
        "        return 'S'\n",
        "    elif input<100:\n",
        "        return 'S'\n",
        "    elif input<200:\n",
        "        return 'M'\n",
        "    elif input<300:\n",
        "        return 'L'\n",
        "    elif input<400:\n",
        "        return 'XL'\n"
      ],
      "metadata": {
        "id": "pFGRarhIK13m"
      },
      "execution_count": null,
      "outputs": []
    },
    {
      "cell_type": "code",
      "source": [
        "test_size = []\n",
        "for i in y_test:\n",
        "    test_size.append(size(i))"
      ],
      "metadata": {
        "id": "afdmdv5FMaDd"
      },
      "execution_count": null,
      "outputs": []
    },
    {
      "cell_type": "markdown",
      "source": [
        "\n",
        "\n",
        "---\n",
        "\n"
      ],
      "metadata": {
        "id": "Qj78pZ6bBufU"
      }
    }
  ]
}